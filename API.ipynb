{
 "cells": [
  {
   "cell_type": "code",
   "execution_count": 1,
   "id": "603b2e13",
   "metadata": {},
   "outputs": [],
   "source": [
    "# pip install openai"
   ]
  },
  {
   "cell_type": "code",
   "execution_count": null,
   "id": "1a15d47e",
   "metadata": {},
   "outputs": [],
   "source": [
    "import openai\n",
    "\n",
    "api_key = 'api-key'\n",
    "\n",
    "openai.api_key = api_key\n",
    "\n",
    "product_input = input(\"Please give a product: \")\n",
    "\n",
    "# Generate a product description using the OpenAI API\n",
    "response = openai.Completion.create(\n",
    "    engine=\"davinci\",\n",
    "    prompt=f\"Generate 5-sentence product description based on {product_input}\",\n",
    "    max_tokens=200,\n",
    "    n = 1\n",
    ")\n",
    "\n",
    "# Extract and print the generated description\n",
    "description = response.choices[0].text.strip()\n",
    "print(description)"
   ]
  }
 ],
 "metadata": {
  "kernelspec": {
   "display_name": "Python 3 (ipykernel)",
   "language": "python",
   "name": "python3"
  },
  "language_info": {
   "codemirror_mode": {
    "name": "ipython",
    "version": 3
   },
   "file_extension": ".py",
   "mimetype": "text/x-python",
   "name": "python",
   "nbconvert_exporter": "python",
   "pygments_lexer": "ipython3",
   "version": "3.9.13"
  }
 },
 "nbformat": 4,
 "nbformat_minor": 5
}
